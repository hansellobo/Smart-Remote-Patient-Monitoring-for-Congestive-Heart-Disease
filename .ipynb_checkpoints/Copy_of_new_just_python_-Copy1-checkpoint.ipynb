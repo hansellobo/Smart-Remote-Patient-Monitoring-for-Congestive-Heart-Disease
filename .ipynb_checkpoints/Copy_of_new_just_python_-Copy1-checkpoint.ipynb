{
 "cells": [
  {
   "cell_type": "markdown",
   "metadata": {
    "id": "sG1XltQhrfkE"
   },
   "source": [
    "\n",
    "\n",
    "```\n",
    "# This is formatted as code\n",
    "```\n",
    "\n"
   ]
  },
  {
   "cell_type": "code",
   "execution_count": 1,
   "metadata": {
    "colab": {
     "base_uri": "https://localhost:8080/"
    },
    "id": "JXfsP0IQGl-S",
    "outputId": "b141d301-f857-4c99-eec3-e53b51774897"
   },
   "outputs": [
    {
     "name": "stdout",
     "output_type": "stream",
     "text": [
      "Downloading...\n",
      "From: https://drive.google.com/uc?id=16MIleqoIr1vYxlGk4GKnGmrsCPuWkkpT\n",
      "To: /content/ECG5000.zip\n",
      "\r",
      "0.00B [00:00, ?B/s]\r",
      "8.91MB [00:00, 67.5MB/s]\r",
      "10.6MB [00:00, 64.8MB/s]\n"
     ]
    }
   ],
   "source": [
    "!gdown --id 16MIleqoIr1vYxlGk4GKnGmrsCPuWkkpT\n",
    "!unzip -qq ECG5000.zip\n",
    "!pip install -qq arff2pandas\n",
    "!gdown --id 1jEYx5wGsb7Ix8cZAw3l5p5pOwHs3_I9A"
   ]
  },
  {
   "cell_type": "markdown",
   "metadata": {
    "id": "ctRMDXMQrejv"
   },
   "source": []
  },
  {
   "cell_type": "code",
   "execution_count": 1,
   "metadata": {
    "colab": {
     "base_uri": "https://localhost:8080/"
    },
    "id": "-aACMOk0P3oE",
    "outputId": "b86f010d-ba00-4d01-88e0-f6c96c465e9f"
   },
   "outputs": [
    {
     "name": "stderr",
     "output_type": "stream",
     "text": [
      "/home/osboxes/anaconda3/lib/python3.7/site-packages/torch/cuda/__init__.py:52: UserWarning: CUDA initialization: Found no NVIDIA driver on your system. Please check that you have an NVIDIA GPU and installed a driver from http://www.nvidia.com/Download/index.aspx (Triggered internally at  /opt/conda/conda-bld/pytorch_1607370128159/work/c10/cuda/CUDAFunctions.cpp:100.)\n",
      "  return torch._C._cuda_getDeviceCount() > 0\n"
     ]
    }
   ],
   "source": [
    "#set up the environment\n",
    "\n",
    "import torch\n",
    "torch.manual_seed(1)\n",
    "\n",
    "import torch.nn as nn\n",
    "\n",
    "import copy\n",
    "import numpy as np\n",
    "import pandas as pd\n",
    "import seaborn as sns\n",
    "from pylab import rcParams\n",
    "import matplotlib.pyplot as plt\n",
    "from matplotlib import rc\n",
    "from sklearn.model_selection import train_test_split\n",
    "from sklearn.metrics import confusion_matrix, classification_report\n",
    "from glob import glob\n",
    "import time\n",
    "import copy\n",
    "import shutil\n",
    "\n",
    "from torch import nn, optim\n",
    "\n",
    "import torch.nn.functional as F\n",
    "from torchvision import datasets, transforms, models \n",
    "from arff2pandas import a2p\n",
    "\n",
    "\n",
    "%matplotlib inline\n",
    "%config InlineBackend.figure_format='retina'\n",
    "\n",
    "sns.set(style='whitegrid', palette='muted', font_scale=1.2)\n",
    "\n",
    "HAPPY_COLORS_PALETTE = [\"#01BEFE\", \"#FFDD00\", \"#FF7D00\", \"#FF006D\", \"#ADFF02\", \"#8F00FF\"]\n",
    "\n",
    "sns.set_palette(sns.color_palette(HAPPY_COLORS_PALETTE))\n",
    "\n",
    "rcParams['figure.figsize'] = 12, 8\n",
    "\n",
    "RANDOM_SEED = 42\n",
    "np.random.seed(RANDOM_SEED)\n",
    "torch.manual_seed(RANDOM_SEED)\n",
    "\n",
    "#set the gpu\n",
    "device = torch.device(\"cuda\" if torch.cuda.is_available() else \"cpu\")"
   ]
  },
  {
   "cell_type": "code",
   "execution_count": 6,
   "metadata": {
    "id": "hoQfvsUmRP0L"
   },
   "outputs": [],
   "source": [
    "#load the train and test datasets\n",
    "with open('ECG5000_TRAIN.arff') as f:\n",
    "  train = a2p.load(f)\n",
    "\n",
    "with open('ECG5000_TEST.arff') as f:\n",
    "  test = a2p.load(f)\n",
    "\n",
    "# append datasets\n",
    "df = train.append(test)\n",
    "df = df.sample(frac=1.0)\n",
    "\n",
    "# set class names(5 type of heartbeats)\n",
    "CLASS_NORMAL = 1\n",
    "class_names = ['Normal','R on T','PVC','SP','UB']\n",
    "\n",
    "# data preprocessing \n",
    "new_columns = list(df.columns)\n",
    "new_columns[-1] = 'target'\n",
    "df.columns = new_columns\n",
    "\n",
    "\n",
    "#Let's get all normal heartbeats and drop the target (class) column:\n",
    "normal_df = df[df.target == str(CLASS_NORMAL)].drop(labels='target', axis=1)\n",
    "\n",
    "\n",
    "#We'll merge all other classes and mark them as anomalies:\n",
    "anomaly_df = df[df.target != str(CLASS_NORMAL)].drop(labels='target', axis=1)\n",
    "\n",
    "# We'll split the normal examples into train, validation and test sets:\n",
    "#split the normal to tranining and validation\n",
    "train_df, val_df = train_test_split(\n",
    "  normal_df,\n",
    "  test_size=0.15,\n",
    "  random_state=RANDOM_SEED\n",
    ")\n",
    "#taking the validation and spliting it further  \n",
    "val_df, test_df = train_test_split(\n",
    "  val_df,\n",
    "  test_size=0.5, \n",
    "  random_state=RANDOM_SEED\n",
    ")\n",
    "\n",
    "\n",
    "#selecting a single random value from normal and anomalies test sequences for testing\n",
    "single_anomaly = anomaly_df.sample()\n",
    "single_normal = test_df.sample()\n",
    "\n",
    "\n",
    "\n",
    "\n",
    "\n",
    "# We need to convert our examples into tensors, so we can use them to train our Autoencoder. Let's write a helper function for that:\n",
    "def create_dataset(df):\n",
    "\n",
    "  sequences = df.astype(np.float32).to_numpy().tolist()\n",
    "\n",
    "  dataset = [torch.tensor(s).unsqueeze(1).float() for s in sequences]\n",
    "\n",
    "  n_seq, seq_len, n_features = torch.stack(dataset).shape\n",
    "\n",
    "  return dataset, seq_len, n_features\n",
    "\n",
    "  #Each Time Series will be converted to a 2D Tensor in the shape sequence length x number of features \n",
    "train_dataset, seq_len, n_features = create_dataset(train_df)\n",
    "val_dataset, _, _ = create_dataset(val_df)\n",
    "test_normal_dataset, _, _ = create_dataset(test_df)\n",
    "test_anomaly_dataset, _, _ = create_dataset(anomaly_df)\n",
    "single_anomaly_dataset,_,_ = create_dataset(single_anomaly)\n",
    "single_normal_dataset,_,_ = create_dataset(single_normal)\n",
    "\n"
   ]
  },
  {
   "cell_type": "code",
   "execution_count": 7,
   "metadata": {},
   "outputs": [
    {
     "data": {
      "text/html": [
       "<div>\n",
       "<style scoped>\n",
       "    .dataframe tbody tr th:only-of-type {\n",
       "        vertical-align: middle;\n",
       "    }\n",
       "\n",
       "    .dataframe tbody tr th {\n",
       "        vertical-align: top;\n",
       "    }\n",
       "\n",
       "    .dataframe thead th {\n",
       "        text-align: right;\n",
       "    }\n",
       "</style>\n",
       "<table border=\"1\" class=\"dataframe\">\n",
       "  <thead>\n",
       "    <tr style=\"text-align: right;\">\n",
       "      <th></th>\n",
       "      <th>att1@NUMERIC</th>\n",
       "      <th>att2@NUMERIC</th>\n",
       "      <th>att3@NUMERIC</th>\n",
       "      <th>att4@NUMERIC</th>\n",
       "      <th>att5@NUMERIC</th>\n",
       "      <th>att6@NUMERIC</th>\n",
       "      <th>att7@NUMERIC</th>\n",
       "      <th>att8@NUMERIC</th>\n",
       "      <th>att9@NUMERIC</th>\n",
       "      <th>att10@NUMERIC</th>\n",
       "      <th>...</th>\n",
       "      <th>att131@NUMERIC</th>\n",
       "      <th>att132@NUMERIC</th>\n",
       "      <th>att133@NUMERIC</th>\n",
       "      <th>att134@NUMERIC</th>\n",
       "      <th>att135@NUMERIC</th>\n",
       "      <th>att136@NUMERIC</th>\n",
       "      <th>att137@NUMERIC</th>\n",
       "      <th>att138@NUMERIC</th>\n",
       "      <th>att139@NUMERIC</th>\n",
       "      <th>att140@NUMERIC</th>\n",
       "    </tr>\n",
       "  </thead>\n",
       "  <tbody>\n",
       "    <tr>\n",
       "      <th>2993</th>\n",
       "      <td>-2.136496</td>\n",
       "      <td>-2.945579</td>\n",
       "      <td>-3.257903</td>\n",
       "      <td>-3.264228</td>\n",
       "      <td>-3.149211</td>\n",
       "      <td>-2.817385</td>\n",
       "      <td>-2.188684</td>\n",
       "      <td>-1.58405</td>\n",
       "      <td>-1.254766</td>\n",
       "      <td>-1.134871</td>\n",
       "      <td>...</td>\n",
       "      <td>1.452973</td>\n",
       "      <td>1.457201</td>\n",
       "      <td>1.068513</td>\n",
       "      <td>0.324266</td>\n",
       "      <td>-0.349277</td>\n",
       "      <td>-1.23676</td>\n",
       "      <td>-2.553132</td>\n",
       "      <td>-3.355034</td>\n",
       "      <td>-3.350627</td>\n",
       "      <td>-2.453646</td>\n",
       "    </tr>\n",
       "  </tbody>\n",
       "</table>\n",
       "<p>1 rows × 140 columns</p>\n",
       "</div>"
      ],
      "text/plain": [
       "      att1@NUMERIC  att2@NUMERIC  att3@NUMERIC  att4@NUMERIC  att5@NUMERIC  \\\n",
       "2993     -2.136496     -2.945579     -3.257903     -3.264228     -3.149211   \n",
       "\n",
       "      att6@NUMERIC  att7@NUMERIC  att8@NUMERIC  att9@NUMERIC  att10@NUMERIC  \\\n",
       "2993     -2.817385     -2.188684      -1.58405     -1.254766      -1.134871   \n",
       "\n",
       "      ...  att131@NUMERIC  att132@NUMERIC  att133@NUMERIC  att134@NUMERIC  \\\n",
       "2993  ...        1.452973        1.457201        1.068513        0.324266   \n",
       "\n",
       "      att135@NUMERIC  att136@NUMERIC  att137@NUMERIC  att138@NUMERIC  \\\n",
       "2993       -0.349277        -1.23676       -2.553132       -3.355034   \n",
       "\n",
       "      att139@NUMERIC  att140@NUMERIC  \n",
       "2993       -3.350627       -2.453646  \n",
       "\n",
       "[1 rows x 140 columns]"
      ]
     },
     "execution_count": 7,
     "metadata": {},
     "output_type": "execute_result"
    }
   ],
   "source": [
    "single_anomaly"
   ]
  },
  {
   "cell_type": "markdown",
   "metadata": {
    "id": "RY2XXScoN21K"
   },
   "source": [
    "## Data explore"
   ]
  },
  {
   "cell_type": "markdown",
   "metadata": {
    "id": "zJ-XAXuPgwpy"
   },
   "source": [
    "The normal class, has by far, the most examples. This is great because we'll use it to train our model.\n",
    "\n",
    "Let's have a look at an averaged (smoothed out with one standard deviation on top and bottom of it) Time Series for each class"
   ]
  },
  {
   "cell_type": "markdown",
   "metadata": {
    "id": "uGdppEgHjTxC"
   },
   "source": [
    "## LSTM Autoencoder(unsupervised learning)\n",
    "The Autoencoder's job is to get some input data, pass it through the model, and obtain a reconstruction of the input. The reconstruction should match the input as much as possible. The trick is to use a small number of parameters, so your model learns a compressed representation of the data.\n",
    "\n",
    "In a sense, Autoencoders try to learn only the most important features (compressed version) of the data. Here, we'll have a look at how to feed Time Series data to an Autoencoder. We'll use a couple of LSTM layers (hence the LSTM Autoencoder) to capture the temporal dependencies of the data.\n",
    "\n",
    "To classify a sequence as normal or an anomaly, we'll pick a threshold above which a heartbeat is considered abnormal.\n",
    "\n",
    "## Reconstruction Loss\n",
    "When training an Autoencoder, the objective is to reconstruct the input as best as possible. This is done by minimizing a loss function (just like in supervised learning). This function is known as reconstruction loss. Cross-entropy loss and Mean squared error are common examples."
   ]
  },
  {
   "cell_type": "code",
   "execution_count": 8,
   "metadata": {
    "id": "_wyPLl4epHAZ"
   },
   "outputs": [],
   "source": [
    "#Autoencoder architecture consists of two components\n",
    "#encoder\n",
    "class Encoder(nn.Module):\n",
    "\n",
    "  def __init__(self, seq_len, n_features, embedding_dim=64):\n",
    "    super(Encoder, self).__init__()\n",
    "\n",
    "    self.seq_len, self.n_features = seq_len, n_features\n",
    "    self.embedding_dim, self.hidden_dim = embedding_dim, 2 * embedding_dim\n",
    "\n",
    "    self.rnn1 = nn.LSTM(\n",
    "      input_size=n_features,\n",
    "      hidden_size=self.hidden_dim,\n",
    "      num_layers=1,\n",
    "      batch_first=True\n",
    "    )\n",
    "    \n",
    "    self.rnn2 = nn.LSTM(\n",
    "      input_size=self.hidden_dim,\n",
    "      hidden_size=embedding_dim,\n",
    "      num_layers=1,\n",
    "      batch_first=True\n",
    "    )\n",
    "\n",
    "  def forward(self, x):\n",
    "    x = x.reshape((1, self.seq_len, self.n_features))\n",
    "\n",
    "    x, (_, _) = self.rnn1(x)\n",
    "    x, (hidden_n, _) = self.rnn2(x)\n",
    "\n",
    "    return hidden_n.reshape((self.n_features, self.embedding_dim))\n",
    "\n",
    "#decoder\n",
    "class Decoder(nn.Module):\n",
    "\n",
    "  def __init__(self, seq_len, input_dim=64, n_features=1):\n",
    "    super(Decoder, self).__init__()\n",
    "\n",
    "    self.seq_len, self.input_dim = seq_len, input_dim\n",
    "    self.hidden_dim, self.n_features = 2 * input_dim, n_features\n",
    "\n",
    "    self.rnn1 = nn.LSTM(\n",
    "      input_size=input_dim,\n",
    "      hidden_size=input_dim,\n",
    "      num_layers=1,\n",
    "      batch_first=True\n",
    "    )\n",
    "\n",
    "    self.rnn2 = nn.LSTM(\n",
    "      input_size=input_dim,\n",
    "      hidden_size=self.hidden_dim,\n",
    "      num_layers=1,\n",
    "      batch_first=True\n",
    "    )\n",
    "\n",
    "    self.output_layer = nn.Linear(self.hidden_dim, n_features)\n",
    "\n",
    "  def forward(self, x):\n",
    "    x = x.repeat(self.seq_len, self.n_features)\n",
    "    x = x.reshape((self.n_features, self.seq_len, self.input_dim))\n",
    "\n",
    "    x, (hidden_n, cell_n) = self.rnn1(x)\n",
    "    x, (hidden_n, cell_n) = self.rnn2(x)\n",
    "    x = x.reshape((self.seq_len, self.hidden_dim))\n",
    "\n",
    "    return self.output_layer(x)\n",
    "\n",
    "\n",
    "\n",
    "\n",
    "class RecurrentAutoencoder(nn.Module):\n",
    "\n",
    "  def __init__(self, seq_len, n_features, embedding_dim=64):\n",
    "    super(RecurrentAutoencoder, self).__init__()\n",
    "\n",
    "    self.encoder = Encoder(seq_len, n_features, embedding_dim).to(device)\n",
    "    self.decoder = Decoder(seq_len, embedding_dim, n_features).to(device)\n",
    "\n",
    "  def forward(self, x):\n",
    "    x = self.encoder(x)\n",
    "    x = self.decoder(x)\n",
    "\n",
    "    return x"
   ]
  },
  {
   "cell_type": "markdown",
   "metadata": {
    "id": "GDaFNNfQR8Hr"
   },
   "source": [
    "#load model before training"
   ]
  },
  {
   "cell_type": "code",
   "execution_count": 1,
   "metadata": {
    "colab": {
     "base_uri": "https://localhost:8080/"
    },
    "id": "s-hHYaqCV3fP",
    "outputId": "2cbe4ee0-add1-4797-d976-c86f65898bb2"
   },
   "outputs": [
    {
     "name": "stdout",
     "output_type": "stream",
     "text": [
      "Downloading...\n",
      "From: https://drive.google.com/uc?id=1jEYx5wGsb7Ix8cZAw3l5p5pOwHs3_I9A\n",
      "To: /home/osboxes/Documents/mas pro2/model.pth\n",
      "3.98MB [00:02, 1.85MB/s]\n"
     ]
    }
   ],
   "source": []
  },
  {
   "cell_type": "code",
   "execution_count": 9,
   "metadata": {
    "colab": {
     "base_uri": "https://localhost:8080/"
    },
    "id": "0X9qiDL5C2jz",
    "outputId": "23660982-79b1-48c8-a40a-36602bfc8824"
   },
   "outputs": [
    {
     "name": "stderr",
     "output_type": "stream",
     "text": [
      "/home/osboxes/anaconda3/lib/python3.7/site-packages/torch/serialization.py:658: SourceChangeWarning: source code of class 'torch.nn.modules.rnn.LSTM' has changed. you can retrieve the original source code by accessing the object's source attribute or set `torch.nn.Module.dump_patches = True` and use the patch tool to revert the changes.\n",
      "  warnings.warn(msg, SourceChangeWarning)\n",
      "/home/osboxes/anaconda3/lib/python3.7/site-packages/torch/serialization.py:658: SourceChangeWarning: source code of class 'torch.nn.modules.linear.Linear' has changed. you can retrieve the original source code by accessing the object's source attribute or set `torch.nn.Module.dump_patches = True` and use the patch tool to revert the changes.\n",
      "  warnings.warn(msg, SourceChangeWarning)\n"
     ]
    }
   ],
   "source": [
    "model = torch.load('model.pth', map_location=torch.device('cpu'))\n",
    "model = model.to(device)"
   ]
  },
  {
   "cell_type": "code",
   "execution_count": 10,
   "metadata": {
    "id": "lHH5I-Q2u9jz"
   },
   "outputs": [],
   "source": [
    "#evaluation (Choosing a threshold)\n",
    "def predict(model, dataset):\n",
    "  predictions, losses = [], []\n",
    "  criterion = nn.L1Loss(reduction='sum').to(device)\n",
    "  with torch.no_grad():\n",
    "    model = model.eval()\n",
    "    for seq_true in dataset:\n",
    "      seq_true = seq_true.to(device)\n",
    "      seq_pred = model(seq_true)\n",
    "\n",
    "      loss = criterion(seq_pred, seq_true)\n",
    "\n",
    "      predictions.append(seq_pred.cpu().numpy().flatten())\n",
    "      losses.append(loss.item())\n",
    "  return predictions, losses\n",
    "\n",
    "_, losses = predict(model, train_dataset)\n",
    "\n",
    "#choose threshold\n",
    "THRESHOLD = 22\n",
    "\n",
    "#normal predictions\n",
    "#predictions, pred_losses = predict(model, test_normal_dataset)\n",
    "\n",
    "#We'll count the correct predictions:\n",
    "#correct = sum(l <= THRESHOLD for l in pred_losses)\n",
    "\n",
    "#anomalies\n",
    "#anomaly_dataset = test_anomaly_dataset[:len(test_normal_dataset)]\n",
    "\n",
    "#Now we can take the predictions of our model for the subset of anomalies:\n",
    "#predictions, pred_losses = predict(model, anomaly_dataset)\n",
    "\n",
    "#We'll count the correct predictions:\n",
    "#correct = sum(l > THRESHOLD for l in pred_losses)"
   ]
  },
  {
   "cell_type": "markdown",
   "metadata": {
    "id": "oVoKaL-2BvkM"
   },
   "source": [
    "##Evaluation\n",
    "Using the threshold, we can turn the problem into a simple binary classification task:\n",
    "\n",
    "If the reconstruction loss for an example is below the threshold, we'll classify it as a normal heartbeat\n",
    "Alternatively, if the loss is higher than the threshold, we'll classify it as an anomaly"
   ]
  },
  {
   "cell_type": "markdown",
   "metadata": {
    "id": "fJWUdYRZBz7_"
   },
   "source": [
    "###Normal hearbeats\n",
    "Let's check how well our model does on normal heartbeats. We'll use the normal heartbeats from the test set (our model haven't seen those)"
   ]
  },
  {
   "cell_type": "code",
   "execution_count": null,
   "metadata": {
    "id": "ovXHIEyIB5_h"
   },
   "outputs": [],
   "source": []
  },
  {
   "cell_type": "markdown",
   "metadata": {
    "id": "axtfMYwqCmp2"
   },
   "source": [
    "###Anomalies\n",
    "We'll do the same with the anomaly examples, but their number is much higher. We'll get a subset that has the same size as the normal heartbeats:"
   ]
  },
  {
   "cell_type": "markdown",
   "metadata": {
    "id": "n-hSiaT4DC34"
   },
   "source": [
    "we can count the number of examples above the threshold (considered as anomalies):"
   ]
  },
  {
   "cell_type": "markdown",
   "metadata": {
    "id": "IAHKRGzwMSv7"
   },
   "source": [
    "####Looking at Examples\n",
    "We can overlay the real and reconstructed Time Series values to see how close they are. We'll do it for some normal and anomaly cases:\n",
    "\n"
   ]
  },
  {
   "cell_type": "code",
   "execution_count": 12,
   "metadata": {
    "colab": {
     "base_uri": "https://localhost:8080/",
     "height": 576
    },
    "id": "Kt8VsO-hMSb1",
    "outputId": "f4bde68b-6a50-4c31-935e-77b239f84774"
   },
   "outputs": [
    {
     "name": "stdout",
     "output_type": "stream",
     "text": [
      "the patient is normal\n"
     ]
    },
    {
     "data": {
      "image/png": "[encoded data removed]",
      "text/plain": [
       "<Figure size 1584x576 with 4 Axes>"
      ]
     },
     "metadata": {
      "image/png": {
       "height": 488,
       "width": 1270
      }
     },
     "output_type": "display_data"
    }
   ],
   "source": [
    "def plot_prediction(data, model, title, ax):\n",
    "  global eg_loss\n",
    "  predictions, pred_losses = predict(model, [data])\n",
    "  eg_loss = np.around(pred_losses[0], 2)\n",
    "  ax.plot(data, label='true')\n",
    "  ax.plot(predictions[0], label='reconstructed')\n",
    "  ax.set_title(f'{title} (loss: {np.around(pred_losses[0], 2)})')\n",
    "  ax.legend()\n",
    "\n",
    "\n",
    "fig, axs = plt.subplots(\n",
    "  nrows=2,\n",
    "  ncols=2,\n",
    "  sharey=True,\n",
    "  sharex=True,\n",
    "  figsize=(22, 8)\n",
    ")\n",
    "\n",
    "\n",
    "\n",
    "for i, data in enumerate(single_normal_dataset[:1]):\n",
    "  plot_prediction(data, model, title='Normal', ax=axs[0, i])\n",
    "\n",
    "#for i, data in enumerate(single_anomaly_dataset[:1]):\n",
    "  #plot_prediction(data, model, title='Anomaly', ax=axs[1, i])\n",
    "\n",
    "# shows if the the patient is normal or needs help \n",
    "if eg_loss < 22:\n",
    "    print(\"the patient is normal\")\n",
    "else:\n",
    "    print(\"anomaly detected, please take action !!\")\n",
    "\n"
   ]
  },
  {
   "cell_type": "code",
   "execution_count": null,
   "metadata": {},
   "outputs": [],
   "source": []
  }
 ],
 "metadata": {
  "colab": {
   "name": "Copy_of_new_just_python_.ipynb",
   "provenance": []
  },
  "kernelspec": {
   "display_name": "Python 3",
   "language": "python",
   "name": "python3"
  },
  "language_info": {
   "codemirror_mode": {
    "name": "ipython",
    "version": 3
   },
   "file_extension": ".py",
   "mimetype": "text/x-python",
   "name": "python",
   "nbconvert_exporter": "python",
   "pygments_lexer": "ipython3",
   "version": "3.7.6"
  }
 },
 "nbformat": 4,
 "nbformat_minor": 1
}
